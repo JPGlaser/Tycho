{
 "cells": [
  {
   "cell_type": "code",
   "execution_count": 1,
   "metadata": {},
   "outputs": [
    {
     "name": "stderr",
     "output_type": "stream",
     "text": [
      "/home/draco/amuse/anaconda2/lib/python2.7/site-packages/h5py/__init__.py:36: FutureWarning: Conversion of the second argument of issubdtype from `float` to `np.floating` is deprecated. In future, it will be treated as `np.float64 == np.dtype(float).type`.\n",
      "  from ._conv import register_converters as _register_converters\n"
     ]
    }
   ],
   "source": [
    "import pickle\n",
    "import numpy as np\n",
    "from amuse.lab import *"
   ]
  },
  {
   "cell_type": "code",
   "execution_count": 2,
   "metadata": {},
   "outputs": [],
   "source": [
    "# Reading in is simple, just load a pickle file and save the dictionary\n",
    "encounterInfoReload = None\n",
    "encounter_file = open(\"/home/draco/jglaser/Public/Tycho_Runs/Test/LongTest02/LongTest02_encounters.pkl\", \"rb\")\n",
    "encounterInfoReload = pickle.load(encounter_file)\n",
    "encounter_file.close()"
   ]
  },
  {
   "cell_type": "code",
   "execution_count": 3,
   "metadata": {},
   "outputs": [
    {
     "name": "stdout",
     "output_type": "stream",
     "text": [
      "100\n",
      "4\n",
      "\n",
      "171\n",
      "4\n",
      "\n",
      "382\n",
      "3\n",
      "\n",
      "515\n",
      "3\n",
      "\n",
      "16\n",
      "321\n",
      "\n",
      "205\n",
      "5\n",
      "\n",
      "206\n",
      "5\n",
      "\n",
      "70\n",
      "4\n",
      "\n",
      "319\n",
      "4\n",
      "\n",
      "30\n",
      "320\n",
      "\n",
      "37\n",
      "3\n",
      "\n",
      "336\n",
      "7\n",
      "\n",
      "320\n",
      "9\n",
      "\n",
      "692\n"
     ]
    }
   ],
   "source": [
    "# This is a quick example of a for loop that will comb through the dictionary and check which stars had an encounter\n",
    "# The keys are the star's id\n",
    "# Every encounter stores a particle set of the particles involved under both keys in the dictionary\n",
    "# You can see the repeated encounter below\n",
    "counter = 0\n",
    "for key in encounterInfoReload:\n",
    "    if len(encounterInfoReload[key])>=3:\n",
    "        print key\n",
    "        #print encounterInfoReload[key][0][0]\n",
    "        #print encounterInfoReload[key][0][1]\n",
    "        print len(encounterInfoReload[key])\n",
    "        counter += len(encounterInfoReload[key])\n",
    "        print \"\"\n",
    "print counter"
   ]
  },
  {
   "cell_type": "code",
   "execution_count": 4,
   "metadata": {},
   "outputs": [
    {
     "name": "stdout",
     "output_type": "stream",
     "text": [
      "241\n",
      "339\n"
     ]
    }
   ],
   "source": [
    "counter = 0\n",
    "list_of_keys = []\n",
    "for key in encounterInfoReload:\n",
    "    if len(encounterInfoReload[key])!=0:\n",
    "        for particle in encounterInfoReload[key][0]:\n",
    "            if particle.id >= 50000:\n",
    "                list_of_keys.append(key)\n",
    "                #print encounterInfoReload[key][0][0]\n",
    "                #print encounterInfoReload[key][0][1]\n",
    "                #print len(encounterInfoReload[key])\n",
    "                counter += len(encounterInfoReload[key])\n",
    "                #print \"\"\n",
    "print len(list_of_keys)\n",
    "print counter"
   ]
  },
  {
   "cell_type": "code",
   "execution_count": 5,
   "metadata": {},
   "outputs": [
    {
     "name": "stdout",
     "output_type": "stream",
     "text": [
      "                 key       child1       child2           id         mass  potential_in_code       radius         time     timestep           vx           vy           vz            x            y            z\n",
      "                   -         none         none         none           kg  m**2 * s**-2            m            s            s    m * s**-1    m * s**-1    m * s**-1            m            m            m\n",
      "====================  ===========  ===========  ===========  ===========  ===========  ===========  ===========  ===========  ===========  ===========  ===========  ===========  ===========  ===========\n",
      " 4764976994691796228           --           --           16    2.286e+29   -1.493e+06    1.496e+14    3.575e+14    3.397e+07    9.307e+02   -1.674e+02   -5.997e+02    1.604e+14   -7.974e+14    1.959e+14\n",
      "15262126054357264317           --           --           30    5.757e+29   -1.444e+06    1.496e+14    3.575e+14    3.397e+07   -3.696e+02    6.649e+01    2.382e+02   -6.370e+13    3.167e+14   -7.781e+13\n",
      "====================  ===========  ===========  ===========  ===========  ===========  ===========  ===========  ===========  ===========  ===========  ===========  ===========  ===========  ===========\n"
     ]
    },
    {
     "name": "stderr",
     "output_type": "stream",
     "text": [
      "/home/draco/amuse/amuse-conda/src/amuse/datamodel/particles.py:302: FutureWarning: Conversion of the second argument of issubdtype from `float` to `np.floating` is deprecated. In future, it will be treated as `np.float64 == np.dtype(float).type`.\n",
      "  if numpy.issubdtype(quantity.dtype, float):\n"
     ]
    }
   ],
   "source": [
    "print encounterInfoReload[\"30\"][-50]"
   ]
  },
  {
   "cell_type": "code",
   "execution_count": null,
   "metadata": {
    "collapsed": true
   },
   "outputs": [],
   "source": []
  }
 ],
 "metadata": {
  "kernelspec": {
   "display_name": "Python 2",
   "language": "python",
   "name": "python2"
  },
  "language_info": {
   "codemirror_mode": {
    "name": "ipython",
    "version": 2
   },
   "file_extension": ".py",
   "mimetype": "text/x-python",
   "name": "python",
   "nbconvert_exporter": "python",
   "pygments_lexer": "ipython2",
   "version": "2.7.14"
  }
 },
 "nbformat": 4,
 "nbformat_minor": 2
}
