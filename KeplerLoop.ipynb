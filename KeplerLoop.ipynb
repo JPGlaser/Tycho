{
 "cells": [
  {
   "cell_type": "code",
   "execution_count": 2,
   "metadata": {
    "collapsed": true
   },
   "outputs": [],
   "source": [
    "# Import Required Python Base Packages\n",
    "import sys\n",
    "import unittest\n",
    "import numpy as np\n",
    "import random\n",
    "import collections\n",
    "import os\n",
    "import time as tp\n",
    "import glob\n",
    "\n",
    "# Create a Safety Mechanism for Not Having MatPlotLib Installed\n",
    "try:\n",
    "    %matplotlib inline\n",
    "    import matplotlib.pyplot as plt\n",
    "    from matplotlib.pyplot import *\n",
    "    from mpl_toolkits.mplot3d import Axes3D\n",
    "    HAS_MATPLOTLIB = True\n",
    "    \n",
    "    matplotlib.rcParams['figure.figsize'] = (16, 6)\n",
    "    matplotlib.rcParams['font.size'] = (14)\n",
    "except ImportError:\n",
    "    HAS_MATPLOTLIB = False\n",
    "\n",
    "# Import the Amuse Base Packages\n",
    "from amuse import datamodel\n",
    "from amuse.units import nbody_system\n",
    "from amuse.units import units\n",
    "from amuse.units import constants\n",
    "from amuse.datamodel import particle_attributes\n",
    "from amuse.io import *\n",
    "from amuse.lab import *\n",
    "\n",
    "# Import the Amuse Stellar Packages\n",
    "from amuse.ic.kingmodel import new_king_model\n",
    "from amuse.ic.salpeter import new_salpeter_mass_distribution_nbody\n",
    "\n",
    "# Import the Amuse Gravity & Close-Encounter Packages\n",
    "from amuse.community.ph4.interface import ph4 as grav\n",
    "from amuse.community.smalln.interface import SmallN\n",
    "from amuse.community.kepler.interface import Kepler\n",
    "from amuse.couple import multiples\n",
    "\n",
    "# Importing cPickle/Pickle\n",
    "try:\n",
    "   import cPickle as pickle\n",
    "except:\n",
    "   import pickle\n",
    "\n",
    "from tycho import read, util"
   ]
  },
  {
   "cell_type": "code",
   "execution_count": 3,
   "metadata": {
    "collapsed": true
   },
   "outputs": [],
   "source": [
    "set1 = read_set_from_file(\"/home/draco/jthornton/stars.out\", format='hdf5')    "
   ]
  },
  {
   "cell_type": "code",
   "execution_count": 4,
   "metadata": {
    "collapsed": false,
    "scrolled": true
   },
   "outputs": [
    {
     "name": "stdout",
     "output_type": "stream",
     "text": [
      "2.90798936307e+13 s\n"
     ]
    }
   ],
   "source": [
    "print set1[0].age"
   ]
  },
  {
   "cell_type": "code",
   "execution_count": 5,
   "metadata": {
    "collapsed": false
   },
   "outputs": [],
   "source": [
    "# Import Encounter file and open Kepler\n",
    "file_prefix = \"Josh2\"\n",
    "file_directory = \"/home/draco/jthornton/Tycho/Encounters/\"\n",
    "file_end = \"_encounters.pkl\"\n",
    "encounterInfoReload = None\n",
    "encounter_file = open(file_directory+file_prefix+file_end, \"rb\")\n",
    "encounterInfoReload = pickle.load(encounter_file)\n",
    "encounter_file.close()"
   ]
  },
  {
   "cell_type": "code",
   "execution_count": 9,
   "metadata": {
    "collapsed": true
   },
   "outputs": [],
   "source": [
    "def get_component_binary_elements(comp1, comp2, kep, peri = 0):\n",
    "\n",
    "    mass = comp1.mass + comp2.mass\n",
    "    pos = comp2.position - comp1.position\n",
    "    vel = comp2.velocity - comp1.velocity\n",
    "    kep.initialize_from_dyn(mass, pos[0], pos[1], pos[2],\n",
    "                            vel[0], vel[1], vel[2])\n",
    "    a,e = kep.get_elements()\n",
    "    r = kep.get_separation()\n",
    "    E,J = kep.get_integrals()           # per unit reduced mass, note\n",
    "    if peri:\n",
    "        M,th = kep.get_angles()\n",
    "        if M < 0:\n",
    "            kep.advance_to_periastron()\n",
    "        else:\n",
    "            kep.return_to_periastron()\n",
    "    t = kep.get_time()\n",
    "\n",
    "    return mass,a,e,r,E,t"
   ]
  },
  {
   "cell_type": "code",
   "execution_count": 31,
   "metadata": {
    "collapsed": false
   },
   "outputs": [],
   "source": [
    "from collections import defaultdict\n",
    "\n",
    "encounterInformation = defaultdict(list)\n",
    "for key in encounterInfoReload:\n",
    "    encounterInformation[key] = []\n",
    "Mass = []\n",
    "semimajor = []\n",
    "eccentricity = []\n",
    "Energy = []\n",
    "Time = []\n",
    "master_set, ic_array, converter = read.read_initial_state(file_prefix)\n",
    "kep = Kepler(unit_converter=converter, redirection=\"none\")\n",
    "kep.initialize_code()"
   ]
  },
  {
   "cell_type": "code",
   "execution_count": 33,
   "metadata": {
    "collapsed": false,
    "scrolled": true
   },
   "outputs": [],
   "source": [
    "# Currently outputting 0 for all times in the oneset I've tried\n",
    "\n",
    "# For loop to go through all keys in the dictionary\n",
    "for key in encounterInfoReload:\n",
    "    \n",
    "    # try loop to cover for empty spaces in the dictionary for shorter runs\n",
    "    try:\n",
    "        i=0\n",
    "        while i < len(encounterInfoReload[key])-2:\n",
    "            \n",
    "            # Method from Tyler's code\n",
    "            mass,a,e,r,E,t = get_component_binary_elements(encounterInfoReload[key][i][0],encounterInfoReload[key][i+1][1],kep)\n",
    "            # i +2 here to loop through the dictionary correctly (function takes 2 elements at a time)\n",
    "            i+=2\n",
    "            \n",
    "            # Store the information in lists in the loop then append afterwards\n",
    "            Mass.append(mass)\n",
    "            semimajor.append(a)\n",
    "            eccentricity.append(e)\n",
    "            Energy.append(E)\n",
    "            Time.append(t)\n",
    "            \n",
    "        # Store information in dictionary\n",
    "        encounterInformation[key].append(Mass)\n",
    "        encounterInformation[key].append(semimajor)\n",
    "        encounterInformation[key].append(eccentricity)\n",
    "        encounterInformation[key].append(Energy)\n",
    "        encounterInformation[key].append(Time)\n",
    "        \n",
    "        # Clean the lists\n",
    "        Mass = []\n",
    "        semimajor = []\n",
    "        eccentricity = []\n",
    "        Energy = []\n",
    "        Time = []\n",
    "        \n",
    "    except:\n",
    "        pass\n",
    "    "
   ]
  }
 ],
 "metadata": {
  "kernelspec": {
   "display_name": "Python 2",
   "language": "python",
   "name": "python2"
  },
  "language_info": {
   "codemirror_mode": {
    "name": "ipython",
    "version": 2
   },
   "file_extension": ".py",
   "mimetype": "text/x-python",
   "name": "python",
   "nbconvert_exporter": "python",
   "pygments_lexer": "ipython2",
   "version": "2.7.13"
  }
 },
 "nbformat": 4,
 "nbformat_minor": 2
}
