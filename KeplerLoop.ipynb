{
 "cells": [
  {
   "cell_type": "code",
   "execution_count": 2,
   "metadata": {
    "collapsed": true
   },
   "outputs": [],
   "source": [
    "# Import Required Python Base Packages\n",
    "import sys\n",
    "import unittest\n",
    "import numpy as np\n",
    "import random\n",
    "import collections\n",
    "import os\n",
    "import time as tp\n",
    "import glob\n",
    "\n",
    "# Create a Safety Mechanism for Not Having MatPlotLib Installed\n",
    "try:\n",
    "    %matplotlib inline\n",
    "    import matplotlib.pyplot as plt\n",
    "    from matplotlib.pyplot import *\n",
    "    from mpl_toolkits.mplot3d import Axes3D\n",
    "    HAS_MATPLOTLIB = True\n",
    "    \n",
    "    matplotlib.rcParams['figure.figsize'] = (16, 6)\n",
    "    matplotlib.rcParams['font.size'] = (14)\n",
    "except ImportError:\n",
    "    HAS_MATPLOTLIB = False\n",
    "\n",
    "# Import the Amuse Base Packages\n",
    "from amuse import datamodel\n",
    "from amuse.units import nbody_system\n",
    "from amuse.units import units\n",
    "from amuse.units import constants\n",
    "from amuse.datamodel import particle_attributes\n",
    "from amuse.io import *\n",
    "from amuse.lab import *\n",
    "\n",
    "# Import the Amuse Stellar Packages\n",
    "from amuse.ic.kingmodel import new_king_model\n",
    "from amuse.ic.salpeter import new_salpeter_mass_distribution_nbody\n",
    "\n",
    "# Import the Amuse Gravity & Close-Encounter Packages\n",
    "from amuse.community.ph4.interface import ph4 as grav\n",
    "from amuse.community.smalln.interface import SmallN\n",
    "from amuse.community.kepler.interface import Kepler\n",
    "from amuse.couple import multiples\n",
    "\n",
    "# Importing cPickle/Pickle\n",
    "try:\n",
    "   import cPickle as pickle\n",
    "except:\n",
    "   import pickle\n",
    "\n",
    "from tycho import read, util"
   ]
  },
  {
   "cell_type": "code",
   "execution_count": 5,
   "metadata": {
    "collapsed": false
   },
   "outputs": [],
   "source": [
    "# Import Encounter file\n",
    "file_prefix = \"Josh2\"\n",
    "file_directory = \"/home/draco/jthornton/Tycho/Encounters/\"\n",
    "file_end = \"_encounters.pkl\"\n",
    "\n",
    "encounterInfoReload = None\n",
    "encounter_file = open(file_directory+file_prefix+file_end, \"rb\")\n",
    "encounterInfoReload = pickle.load(encounter_file)\n",
    "encounter_file.close()"
   ]
  },
  {
   "cell_type": "code",
   "execution_count": 59,
   "metadata": {
    "collapsed": true
   },
   "outputs": [],
   "source": [
    "def get_component_binary_elements(comp1, comp2, kep, peri = 0):\n",
    "\n",
    "    mass = comp1.mass + comp2.mass\n",
    "    pos = comp2.position - comp1.position\n",
    "    vel = comp2.velocity - comp1.velocity\n",
    "    kep.initialize_from_dyn(mass, pos[0], pos[1], pos[2],\n",
    "                            vel[0], vel[1], vel[2])\n",
    "    a,e = kep.get_elements()\n",
    "    r = kep.get_separation()\n",
    "    E,J = kep.get_integrals()           # per unit reduced mass, note\n",
    "    if peri:\n",
    "        M,th = kep.get_angles()\n",
    "        if M < 0:\n",
    "            kep.advance_to_periastron()\n",
    "        else:\n",
    "            kep.return_to_periastron()\n",
    "    t = kep.get_time()\n",
    "    P = kep.get_period()\n",
    "    print kep.get_period()\n",
    "    \n",
    "    return mass,a,e,r,E,t,P"
   ]
  },
  {
   "cell_type": "code",
   "execution_count": 42,
   "metadata": {
    "collapsed": false
   },
   "outputs": [],
   "source": [
    "from collections import defaultdict\n",
    "\n",
    "encounterInformation = defaultdict(list)\n",
    "for key in encounterInfoReload:\n",
    "    encounterInformation[key] = []\n",
    "Mass = []\n",
    "semimajor = []\n",
    "eccentricity = []\n",
    "Energy = []\n",
    "Time = []\n",
    "master_set, ic_array, converter = read.read_initial_state(file_prefix)\n",
    "kep = Kepler(unit_converter=converter, redirection=\"none\")\n",
    "kep.initialize_code()"
   ]
  },
  {
   "cell_type": "code",
   "execution_count": 44,
   "metadata": {
    "collapsed": false
   },
   "outputs": [],
   "source": [
    "from tycho import create\n",
    "\n",
    "num_stars = 1\n",
    "num_planets = 0\n",
    "IBF = 1\n",
    "seed = 0\n",
    "stars_SI, converter = create.king_cluster(num_stars, num_binaries=IBF, seed=seed)\n"
   ]
  },
  {
   "cell_type": "code",
   "execution_count": 52,
   "metadata": {
    "collapsed": false
   },
   "outputs": [
    {
     "data": {
      "text/plain": [
       "<amuse.datamodel.particles.ParticlesSubset at 0x2aaae88c0ed0>"
      ]
     },
     "execution_count": 52,
     "metadata": {},
     "output_type": "execute_result"
    }
   ],
   "source": [
    "num_star=1\n",
    "num_planet=1\n",
    "ibf=0\n",
    "\n",
    "stars_SI2, converter2 = create.king_cluster(num_star, num_binaries=ibf, seed=seed)\n",
    "systems_SI = create.planetary_systems(stars_SI2, converter2, num_planet, 'test_planets', Jupiter=True)\n",
    "MasterSet = datamodel.Particles()\n",
    "MasterSet.add_particles(stars_SI2)\n",
    "MasterSet.add_particles(systems_SI)"
   ]
  },
  {
   "cell_type": "code",
   "execution_count": 66,
   "metadata": {
    "collapsed": true
   },
   "outputs": [],
   "source": [
    "try:\n",
    "    kep2.stop()\n",
    "    kep.stop()\n",
    "except:\n",
    "    pass\n",
    "kep = Kepler(unit_converter=converter, redirection=\"none\")\n",
    "kep.initialize_code()\n",
    "\n",
    "kep2 = Kepler(unit_converter=converter2, redirection=\"none\")\n",
    "kep2.initialize_code()"
   ]
  },
  {
   "cell_type": "code",
   "execution_count": 53,
   "metadata": {
    "collapsed": false,
    "scrolled": true
   },
   "outputs": [
    {
     "name": "stdout",
     "output_type": "stream",
     "text": [
      "                 key    host_star           id         mass       radius         type           vx           vy           vz            x            y            z\n",
      "                   -         none         none           kg            m         none    m * s**-1    m * s**-1    m * s**-1            m            m            m\n",
      "====================  ===========  ===========  ===========  ===========  ===========  ===========  ===========  ===========  ===========  ===========  ===========\n",
      "  275342694097063007            0            1    9.039e+28    6.798e+12         star    0.000e+00    0.000e+00    0.000e+00    0.000e+00    0.000e+00    0.000e+00\n",
      " 1200733817644779700            1      5000000    1.899e+27    4.551e+08       planet    1.928e+03    3.144e+03    1.184e+03    1.029e+12   -1.077e+11    3.876e+11\n",
      "====================  ===========  ===========  ===========  ===========  ===========  ===========  ===========  ===========  ===========  ===========  ===========\n"
     ]
    }
   ],
   "source": [
    "print MasterSet"
   ]
  },
  {
   "cell_type": "code",
   "execution_count": 45,
   "metadata": {
    "collapsed": false,
    "scrolled": true
   },
   "outputs": [
    {
     "name": "stdout",
     "output_type": "stream",
     "text": [
      "                 key           id         mass       radius         type           vx           vy           vz            x            y            z\n",
      "                   -         none           kg           AU         none    m * s**-1    m * s**-1    m * s**-1            m            m            m\n",
      "====================  ===========  ===========  ===========  ===========  ===========  ===========  ===========  ===========  ===========  ===========\n",
      "18033081871020678442            2    9.424e+29    4.738e+02         star    2.848e+02    1.436e+03    3.322e+02    3.226e+12   -1.082e+12    7.465e+11\n",
      " 6156527733378841055            3    5.385e+29    2.707e+02         star   -4.983e+02   -2.512e+03   -5.814e+02   -5.646e+12    1.894e+12   -1.306e+12\n",
      "====================  ===========  ===========  ===========  ===========  ===========  ===========  ===========  ===========  ===========  ===========\n"
     ]
    }
   ],
   "source": [
    "print stars_SI"
   ]
  },
  {
   "cell_type": "code",
   "execution_count": 70,
   "metadata": {
    "collapsed": false
   },
   "outputs": [
    {
     "name": "stdout",
     "output_type": "stream",
     "text": [
      "91005657886.0 s\n"
     ]
    }
   ],
   "source": [
    "mass,a,e,r,E,t,P = get_component_binary_elements(stars_SI[0], stars_SI[1],kep)"
   ]
  },
  {
   "cell_type": "code",
   "execution_count": 68,
   "metadata": {
    "collapsed": false
   },
   "outputs": [
    {
     "name": "stdout",
     "output_type": "stream",
     "text": [
      "5105531886.96 s\n"
     ]
    }
   ],
   "source": [
    "mass,a,e,r,E,t,P = get_component_binary_elements(MasterSet[0],MasterSet[1],kep2)"
   ]
  },
  {
   "cell_type": "code",
   "execution_count": 71,
   "metadata": {
    "collapsed": false
   },
   "outputs": [
    {
     "name": "stdout",
     "output_type": "stream",
     "text": [
      "1.4808462008e+30 kg\n",
      "1.4808462008e+30 kg\n",
      "2.74724342534e+13 m\n",
      "0.653687862156\n",
      "9.5804601721e+12 m\n",
      "-1798818.06066 m**2 * s**-2\n",
      "2883.856872 yr\n"
     ]
    }
   ],
   "source": [
    "print mass\n",
    "print stars_SI[0].mass+stars_SI[1].mass\n",
    "print a\n",
    "print e\n",
    "print r\n",
    "print E\n",
    "print P.as_quantity_in(units.yr)"
   ]
  },
  {
   "cell_type": "code",
   "execution_count": 33,
   "metadata": {
    "collapsed": false,
    "scrolled": true
   },
   "outputs": [],
   "source": [
    "# Currently outputting 0 for all times in the oneset I've tried\n",
    "\n",
    "# For loop to go through all keys in the dictionary\n",
    "for key in encounterInfoReload:\n",
    "    \n",
    "    # try loop to cover for empty spaces in the dictionary for shorter runs\n",
    "    try:\n",
    "        i=0\n",
    "        while i < len(encounterInfoReload[key])-2:\n",
    "            \n",
    "            # Method from Tyler's code\n",
    "            mass,a,e,r,E,t = get_component_binary_elements(encounterInfoReload[key][i][0],encounterInfoReload[key][i+1][1],kep)\n",
    "            # i +2 here to loop through the dictionary correctly (function takes 2 elements at a time)\n",
    "            i+=2\n",
    "            \n",
    "            # Store the information in lists in the loop then append afterwards\n",
    "            Mass.append(mass)\n",
    "            semimajor.append(a)\n",
    "            eccentricity.append(e)\n",
    "            Energy.append(E)\n",
    "            Time.append(t)\n",
    "            \n",
    "        # Store information in dictionary\n",
    "        encounterInformation[key].append(Mass)\n",
    "        encounterInformation[key].append(semimajor)\n",
    "        encounterInformation[key].append(eccentricity)\n",
    "        encounterInformation[key].append(Energy)\n",
    "        encounterInformation[key].append(Time)\n",
    "        \n",
    "        # Clean the lists\n",
    "        Mass = []\n",
    "        semimajor = []\n",
    "        eccentricity = []\n",
    "        Energy = []\n",
    "        Time = []\n",
    "        \n",
    "    except:\n",
    "        pass\n",
    "    "
   ]
  }
 ],
 "metadata": {
  "kernelspec": {
   "display_name": "Python 2",
   "language": "python",
   "name": "python2"
  },
  "language_info": {
   "codemirror_mode": {
    "name": "ipython",
    "version": 2
   },
   "file_extension": ".py",
   "mimetype": "text/x-python",
   "name": "python",
   "nbconvert_exporter": "python",
   "pygments_lexer": "ipython2",
   "version": "2.7.13"
  }
 },
 "nbformat": 4,
 "nbformat_minor": 2
}
