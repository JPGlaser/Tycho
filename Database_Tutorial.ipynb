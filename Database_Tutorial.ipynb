{
 "cells": [
  {
   "cell_type": "code",
   "execution_count": 1,
   "metadata": {
    "collapsed": true
   },
   "outputs": [],
   "source": [
    "import pickle\n",
    "import numpy as np\n"
   ]
  },
  {
   "cell_type": "code",
   "execution_count": 2,
   "metadata": {
    "collapsed": true
   },
   "outputs": [],
   "source": [
    "# Reading in is simple, just load a pickle file and save the dictionary\n",
    "encounterInfoReload = None\n",
    "encounter_file = open(\"/home/draco/jthornton/Tycho-NaN/Encounters/Encounters1_encounters.pkl\", \"rb\")\n",
    "encounterInfoReload = pickle.load(encounter_file)\n",
    "encounter_file.close()"
   ]
  },
  {
   "cell_type": "code",
   "execution_count": 13,
   "metadata": {
    "collapsed": false
   },
   "outputs": [
    {
     "name": "stdout",
     "output_type": "stream",
     "text": [
      "22:\n",
      "Particle(16457865241428803348, set=<46913125472208>\n",
      "    , child1=None\n",
      "    , child2=None\n",
      "    , id=21\n",
      "    , mass=0.0921957317525 mass\n",
      "    , potential_in_code=-3421.07641602 length**2 * time**-2\n",
      "    , radius=0.000884900298074 length\n",
      "    , time=2.32830643654e-10 time\n",
      "    , timestep=2.32830643654e-10 time\n",
      "    , vx=-29.0049219435 length * time**-1\n",
      "    , vy=44.0651458457 length * time**-1\n",
      "    , vz=-5.7541237205 length * time**-1\n",
      "    , x=-0.537433415581 length\n",
      "    , y=-0.181460243685 length\n",
      "    , z=0.539059918534 length)\n",
      "Particle(1719073578634510902, set=<46913125472208>\n",
      "    , child1=None\n",
      "    , child2=None\n",
      "    , id=22\n",
      "    , mass=0.0639976134525 mass\n",
      "    , potential_in_code=-4928.06298828 length**2 * time**-2\n",
      "    , radius=0.000614253026075 length\n",
      "    , time=2.32830643654e-10 time\n",
      "    , timestep=2.32830643654e-10 time\n",
      "    , vx=39.9282906916 length * time**-1\n",
      "    , vy=-63.1608031154 length * time**-1\n",
      "    , vz=7.49900393319 length * time**-1\n",
      "    , x=-0.537449204066 length\n",
      "    , y=-0.181469790469 length\n",
      "    , z=0.539061875696 length)\n",
      "\n",
      "21:\n",
      "Particle(16457865241428803348, set=<46913125472208>\n",
      "    , child1=None\n",
      "    , child2=None\n",
      "    , id=21\n",
      "    , mass=0.0921957317525 mass\n",
      "    , potential_in_code=-3421.07641602 length**2 * time**-2\n",
      "    , radius=0.000884900298074 length\n",
      "    , time=2.32830643654e-10 time\n",
      "    , timestep=2.32830643654e-10 time\n",
      "    , vx=-29.0049219435 length * time**-1\n",
      "    , vy=44.0651458457 length * time**-1\n",
      "    , vz=-5.7541237205 length * time**-1\n",
      "    , x=-0.537433415581 length\n",
      "    , y=-0.181460243685 length\n",
      "    , z=0.539059918534 length)\n",
      "Particle(1719073578634510902, set=<46913125472208>\n",
      "    , child1=None\n",
      "    , child2=None\n",
      "    , id=22\n",
      "    , mass=0.0639976134525 mass\n",
      "    , potential_in_code=-4928.06298828 length**2 * time**-2\n",
      "    , radius=0.000614253026075 length\n",
      "    , time=2.32830643654e-10 time\n",
      "    , timestep=2.32830643654e-10 time\n",
      "    , vx=39.9282906916 length * time**-1\n",
      "    , vy=-63.1608031154 length * time**-1\n",
      "    , vz=7.49900393319 length * time**-1\n",
      "    , x=-0.537449204066 length\n",
      "    , y=-0.181469790469 length\n",
      "    , z=0.539061875696 length)\n",
      "\n"
     ]
    }
   ],
   "source": [
    "# This is a quick example of a for loop that will comb through the dictionary and check which stars had an encounter\n",
    "# The keys are the star's id\n",
    "# Every encounter stores a particle set of the particles involved under both keys in the dictionary\n",
    "# You can see the repeated encounter below\n",
    "for key in encounterInfoReload:\n",
    "    if len(encounterInfoReload[key])!=0:\n",
    "        print key+\":\"\n",
    "        print encounterInfoReload[key][0][0]\n",
    "        print encounterInfoReload[key][0][1]\n",
    "        print \"\""
   ]
  },
  {
   "cell_type": "code",
   "execution_count": null,
   "metadata": {
    "collapsed": true
   },
   "outputs": [],
   "source": []
  }
 ],
 "metadata": {
  "kernelspec": {
   "display_name": "Python 2",
   "language": "python",
   "name": "python2"
  },
  "language_info": {
   "codemirror_mode": {
    "name": "ipython",
    "version": 2
   },
   "file_extension": ".py",
   "mimetype": "text/x-python",
   "name": "python",
   "nbconvert_exporter": "python",
   "pygments_lexer": "ipython2",
   "version": "2.7.13"
  }
 },
 "nbformat": 4,
 "nbformat_minor": 2
}
